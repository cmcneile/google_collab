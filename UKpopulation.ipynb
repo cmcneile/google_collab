{
  "nbformat": 4,
  "nbformat_minor": 0,
  "metadata": {
    "colab": {
      "name": "UKpopulation.ipynb",
      "provenance": [],
      "authorship_tag": "ABX9TyPoGnUccsZRrWQpyKuZhf2S",
      "include_colab_link": true
    },
    "kernelspec": {
      "name": "python3",
      "display_name": "Python 3"
    }
  },
  "cells": [
    {
      "cell_type": "markdown",
      "metadata": {
        "id": "view-in-github",
        "colab_type": "text"
      },
      "source": [
        "<a href=\"https://colab.research.google.com/github/cmcneile/google_collab/blob/main/UKpopulation.ipynb\" target=\"_parent\"><img src=\"https://colab.research.google.com/assets/colab-badge.svg\" alt=\"Open In Colab\"/></a>"
      ]
    },
    {
      "cell_type": "markdown",
      "metadata": {
        "id": "US2V2bgW7Nmg"
      },
      "source": [
        "# Analysis of UK population as with date"
      ]
    },
    {
      "cell_type": "markdown",
      "metadata": {
        "id": "uxTAcUBt4JzE"
      },
      "source": [
        "Example started from\n",
        "\n",
        "https://cmdlinetips.com/2018/04/how-to-drop-one-or-more-columns-in-pandas-dataframe/\n"
      ]
    },
    {
      "cell_type": "code",
      "metadata": {
        "id": "4x4Dqn1d4Vxo"
      },
      "source": [
        ""
      ],
      "execution_count": null,
      "outputs": []
    },
    {
      "cell_type": "code",
      "metadata": {
        "colab": {
          "base_uri": "https://localhost:8080/"
        },
        "id": "0ZMlWzRz3cQ6",
        "outputId": "c91aff1d-8e5e-4637-869f-7bafb7718a87"
      },
      "source": [
        "import pandas as pd\n",
        "gapminder_url='https://bit.ly/2cLzoxH'\n",
        "gapminder = pd.read_csv(gapminder_url)\n",
        "print(gapminder.head(3))\n",
        "\n",
        "\n",
        "# pandas drop a column with drop function\n",
        "df = gapminder.drop(['pop', 'gdpPercap'], axis=1)\n",
        "print(\"------------------------------\")\n",
        "\n",
        "print(gapminder.head(3))\n"
      ],
      "execution_count": 1,
      "outputs": [
        {
          "output_type": "stream",
          "text": [
            "       country  year         pop continent  lifeExp   gdpPercap\n",
            "0  Afghanistan  1952   8425333.0      Asia   28.801  779.445314\n",
            "1  Afghanistan  1957   9240934.0      Asia   30.332  820.853030\n",
            "2  Afghanistan  1962  10267083.0      Asia   31.997  853.100710\n",
            "------------------------------\n",
            "       country  year         pop continent  lifeExp   gdpPercap\n",
            "0  Afghanistan  1952   8425333.0      Asia   28.801  779.445314\n",
            "1  Afghanistan  1957   9240934.0      Asia   30.332  820.853030\n",
            "2  Afghanistan  1962  10267083.0      Asia   31.997  853.100710\n"
          ],
          "name": "stdout"
        }
      ]
    },
    {
      "cell_type": "code",
      "metadata": {
        "colab": {
          "base_uri": "https://localhost:8080/"
        },
        "id": "YkIweX_T4Xxe",
        "outputId": "d3cdfc5a-a395-447a-a8d6-c220284f63cc"
      },
      "source": [
        "print( gapminder['country'].unique())"
      ],
      "execution_count": 4,
      "outputs": [
        {
          "output_type": "stream",
          "text": [
            "['Afghanistan' 'Albania' 'Algeria' 'Angola' 'Argentina' 'Australia'\n",
            " 'Austria' 'Bahrain' 'Bangladesh' 'Belgium' 'Benin' 'Bolivia'\n",
            " 'Bosnia and Herzegovina' 'Botswana' 'Brazil' 'Bulgaria' 'Burkina Faso'\n",
            " 'Burundi' 'Cambodia' 'Cameroon' 'Canada' 'Central African Republic'\n",
            " 'Chad' 'Chile' 'China' 'Colombia' 'Comoros' 'Congo Dem. Rep.'\n",
            " 'Congo Rep.' 'Costa Rica' \"Cote d'Ivoire\" 'Croatia' 'Cuba'\n",
            " 'Czech Republic' 'Denmark' 'Djibouti' 'Dominican Republic' 'Ecuador'\n",
            " 'Egypt' 'El Salvador' 'Equatorial Guinea' 'Eritrea' 'Ethiopia' 'Finland'\n",
            " 'France' 'Gabon' 'Gambia' 'Germany' 'Ghana' 'Greece' 'Guatemala' 'Guinea'\n",
            " 'Guinea-Bissau' 'Haiti' 'Honduras' 'Hong Kong China' 'Hungary' 'Iceland'\n",
            " 'India' 'Indonesia' 'Iran' 'Iraq' 'Ireland' 'Israel' 'Italy' 'Jamaica'\n",
            " 'Japan' 'Jordan' 'Kenya' 'Korea Dem. Rep.' 'Korea Rep.' 'Kuwait'\n",
            " 'Lebanon' 'Lesotho' 'Liberia' 'Libya' 'Madagascar' 'Malawi' 'Malaysia'\n",
            " 'Mali' 'Mauritania' 'Mauritius' 'Mexico' 'Mongolia' 'Montenegro'\n",
            " 'Morocco' 'Mozambique' 'Myanmar' 'Namibia' 'Nepal' 'Netherlands'\n",
            " 'New Zealand' 'Nicaragua' 'Niger' 'Nigeria' 'Norway' 'Oman' 'Pakistan'\n",
            " 'Panama' 'Paraguay' 'Peru' 'Philippines' 'Poland' 'Portugal'\n",
            " 'Puerto Rico' 'Reunion' 'Romania' 'Rwanda' 'Sao Tome and Principe'\n",
            " 'Saudi Arabia' 'Senegal' 'Serbia' 'Sierra Leone' 'Singapore'\n",
            " 'Slovak Republic' 'Slovenia' 'Somalia' 'South Africa' 'Spain' 'Sri Lanka'\n",
            " 'Sudan' 'Swaziland' 'Sweden' 'Switzerland' 'Syria' 'Taiwan' 'Tanzania'\n",
            " 'Thailand' 'Togo' 'Trinidad and Tobago' 'Tunisia' 'Turkey' 'Uganda'\n",
            " 'United Kingdom' 'United States' 'Uruguay' 'Venezuela' 'Vietnam'\n",
            " 'West Bank and Gaza' 'Yemen Rep.' 'Zambia' 'Zimbabwe']\n"
          ],
          "name": "stdout"
        }
      ]
    },
    {
      "cell_type": "markdown",
      "metadata": {
        "id": "2R-PI3mr8DYe"
      },
      "source": [
        "# Extract The UK data"
      ]
    },
    {
      "cell_type": "code",
      "metadata": {
        "id": "YzNoe4VY5NBE"
      },
      "source": [
        "df_uk = gapminder[gapminder['country']=='United Kingdom']"
      ],
      "execution_count": 8,
      "outputs": []
    },
    {
      "cell_type": "markdown",
      "metadata": {
        "id": "uAH9FbMb-UBF"
      },
      "source": [
        "Plot the UK population as a function of year"
      ]
    },
    {
      "cell_type": "code",
      "metadata": {
        "colab": {
          "base_uri": "https://localhost:8080/",
          "height": 308
        },
        "id": "L-aueXI75tyS",
        "outputId": "89f76a29-7848-4034-832a-9651b9176951"
      },
      "source": [
        "df_uk.plot(y='pop' , x = 'year')"
      ],
      "execution_count": 10,
      "outputs": [
        {
          "output_type": "execute_result",
          "data": {
            "text/plain": [
              "<matplotlib.axes._subplots.AxesSubplot at 0x7fba82d2b748>"
            ]
          },
          "metadata": {
            "tags": []
          },
          "execution_count": 10
        },
        {
          "output_type": "display_data",
          "data": {
            "image/png": "[encoded data removed]",
            "text/plain": [
              "<Figure size 432x288 with 1 Axes>"
            ]
          },
          "metadata": {
            "tags": [],
            "needs_background": "light"
          }
        }
      ]
    }
  ]
}