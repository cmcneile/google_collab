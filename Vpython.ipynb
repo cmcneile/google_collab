{
 "cells": [
  {
   "cell_type": "markdown",
   "metadata": {},
   "source": [
    "# Example of basic physics simulation"
   ]
  },
  {
   "cell_type": "code",
   "execution_count": null,
   "metadata": {},
   "outputs": [],
   "source": [
    "from __future__ import division, print_function\n",
    "from math import *"
   ]
  },
  {
   "cell_type": "code",
   "execution_count": null,
   "metadata": {},
   "outputs": [],
   "source": [
    "from vpython import *\n"
   ]
  },
  {
   "cell_type": "markdown",
   "metadata": {},
   "source": [
    "\n",
    "Example of a moving sphere moving under gravity and bouncing elastically off the ground.\n",
    "\n",
    "*  The 3D objects are created using vpython https://www.glowscript.org/docs/VPythonDocs/index.html\n",
    "*  Newton's laws are solved by Euler's method:  https://en.wikipedia.org/wiki/Euler_method"
   ]
  },
  {
   "cell_type": "code",
   "execution_count": null,
   "metadata": {},
   "outputs": [],
   "source": [
    "\n",
    "\n",
    "rad = 2\n",
    "\n",
    "# parameters of the ground\n",
    "long = 40\n",
    "wide = 5\n",
    "\n",
    "# The spehere at posistion (-8,10,0)\n",
    "ball = sphere(pos=vec(-11,10,0), radius= rad, color=color.white)\n",
    "# intial velocity of the ball\n",
    "ball.velocity = vec(2,0,0)\n",
    "\n",
    "# This is the ground\n",
    "rectangle = box(pos=vec(0,-2.5,0), length= long, width= wide, color=color.yellow)\n",
    "\n",
    "# gravitational acceleration\n",
    "g = 9.81\n",
    "\n",
    "# The small time interval\n",
    "dt = 0.02\n",
    "\n",
    "# the number of time steps\n",
    "nostep = 700\n",
    "\n",
    "i = 0 \n",
    "\n",
    "while i < nostep  :\n",
    "# The rate relates to the display   \n",
    "   rate(40)\n",
    "\n",
    "#  update the position with the velocities\n",
    "   ball.pos.y = ball.pos.y + dt*ball.velocity.y\n",
    "   ball.pos.x = ball.pos.x + dt*ball.velocity.x \n",
    "\n",
    "#  update the velocity using gravitational acceleration\n",
    "   ball.velocity.y = ball.velocity.y - dt* g\n",
    "\n",
    "#   Elastic collision of ball with the ground\n",
    "   if ball.pos.y <= 0 :\n",
    "     ball.velocity.y = -1.0*ball.velocity.y\n",
    "\n",
    "   i = i + 1\n"
   ]
  },
  {
   "cell_type": "code",
   "execution_count": null,
   "metadata": {},
   "outputs": [],
   "source": [
    "\n"
   ]
  },
  {
   "cell_type": "code",
   "execution_count": null,
   "metadata": {},
   "outputs": [],
   "source": []
  }
 ],
 "metadata": {
  "anaconda-cloud": {},
  "kernelspec": {
   "display_name": "Python 3",
   "language": "python",
   "name": "python3"
  },
  "language_info": {
   "codemirror_mode": {
    "name": "ipython",
    "version": 3
   },
   "file_extension": ".py",
   "mimetype": "text/x-python",
   "name": "python",
   "nbconvert_exporter": "python",
   "pygments_lexer": "ipython3",
   "version": "3.6.7"
  }
 },
 "nbformat": 4,
 "nbformat_minor": 1
}
